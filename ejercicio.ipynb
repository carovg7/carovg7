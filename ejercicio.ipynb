{
 "cells": [
  {
   "cell_type": "code",
   "execution_count": 3,
   "metadata": {},
   "outputs": [
    {
     "name": "stdout",
     "output_type": "stream",
     "text": [
      "Path:  /home/carolina/carovg7\n",
      "num_records = 1 records\n",
      "\n",
      "\n",
      "Name:  CM025452\n",
      "ID:  CM025452.1\n",
      "Location: \n",
      "Start: 0, Stop: 140437\n",
      "Description: \n",
      "Zea mays isolate Zm00056a chloroplast, complete sequence, whole genome shotgun sequence\n",
      "\n",
      "\n"
     ]
    }
   ],
   "source": [
    "from Bio import SeqIO\n",
    "from Bio.Seq import Seq\n",
    "from Bio.SeqFeature import SeqFeature, FeatureLocation\n",
    "from Bio.SeqRecord import SeqRecord\n",
    "import os\n",
    "\n",
    "archivo = \"/home/carolina/carovg7/sequence.gb\"\n",
    "def summarize_contents(archivo):\n",
    "    all_records=[]\n",
    "    records = list(SeqIO.parse(archivo, \"genbank\"))\n",
    "    print(\"Path: \", os.path.dirname(archivo))\n",
    "    print(\"num_records = %i records\" % len(records))\n",
    "    print(\"\\n\")\n",
    "    counter = 0\n",
    "    for seq_record in SeqIO.parse(archivo, \"genbank\"):\n",
    "        all_records.append(seq_record.name)\n",
    "        print(\"Name: \", seq_record.name)\n",
    "        print(\"ID: \", seq_record.id)\n",
    "        print(\"Location: \")\n",
    "        for seq_feature in seq_record.features:\n",
    "            print('Start: %d, Stop: %d'%(int(seq_feature.location.start),int(seq_feature.location.end)))\n",
    "        descripcion = SeqIO.read(archivo, \"genbank\")\n",
    "        print(\"Description: \")\n",
    "        print(descripcion.description)\n",
    "        print(\"\\n\")\n",
    "summarize_contents(archivo)"
   ]
  },
  {
   "cell_type": "code",
   "execution_count": null,
   "metadata": {},
   "outputs": [],
   "source": []
  }
 ],
 "metadata": {
  "kernelspec": {
   "display_name": "Python 3",
   "language": "python",
   "name": "python3"
  },
  "language_info": {
   "codemirror_mode": {
    "name": "ipython",
    "version": 3
   },
   "file_extension": ".py",
   "mimetype": "text/x-python",
   "name": "python",
   "nbconvert_exporter": "python",
   "pygments_lexer": "ipython3",
   "version": "3.8.3"
  }
 },
 "nbformat": 4,
 "nbformat_minor": 4
}
