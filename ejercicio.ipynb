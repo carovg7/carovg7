{
 "cells": [
  {
   "cell_type": "code",
   "execution_count": 19,
   "metadata": {},
   "outputs": [
    {
     "name": "stdout",
     "output_type": "stream",
     "text": [
      "ID: CM025452.1\n",
      "Name: CM025452\n",
      "Description: Zea mays isolate Zm00056a chloroplast, complete sequence, whole genome shotgun sequence\n",
      "Database cross-references: BioProject:PRJNA635654, BioSample:SAMN15048685\n",
      "Number of features: 1\n",
      "/molecule_type=DNA\n",
      "/topology=circular\n",
      "/data_file_division=CON\n",
      "/date=11-SEP-2020\n",
      "/accessions=['CM025452', 'JABWIA010000000']\n",
      "/sequence_version=1\n",
      "/keywords=['WGS']\n",
      "/source=chloroplast Zea mays\n",
      "/organism=Zea mays\n",
      "/taxonomy=['Eukaryota', 'Viridiplantae', 'Streptophyta', 'Embryophyta', 'Tracheophyta', 'Spermatophyta', 'Magnoliopsida', 'Liliopsida', 'Poales', 'Poaceae', 'PACMAD clade', 'Panicoideae', 'Andropogonodae', 'Andropogoneae', 'Tripsacinae', 'Zea']\n",
      "/references=[Reference(title='Genome sequencing and assembly of maize inbred line A188', ...), Reference(title='Direct Submission', ...)]\n",
      "/structured_comment=OrderedDict([('Genome-Assembly-Data', OrderedDict([('Assembly Date', '25-MAY-2020'), ('Assembly Method', 'Canu v. 1.9'), ('Assembly Name', 'A188Ref1'), ('Genome Representation', 'Full'), ('Expected Final Version', 'Yes'), ('Genome Coverage', '90.0x'), ('Sequencing Technology', 'Oxford Nanopore MinION; Illumina HiSeq')]))])\n",
      "/contig=join(JABWIA010000998.1:1..140437)\n",
      "UnknownSeq(140437, character='N')\n",
      "1\n"
     ]
    }
   ],
   "source": [
    "from Bio import SeqIO, SeqFeature\n",
    "from Bio.SeqFeature import FeatureLocation\n",
    "from Bio.SeqRecord import SeqRecord\n",
    "\n",
    "archivo = \"/home/carolina/carovg7/sequence.gb\" #aquí insertar la dirección del archivo GenBank correspondiente.\n",
    "def summarize_contents(archivo):\n",
    "    resumen = SeqIO.read(archivo, \"genbank\")\n",
    "    #resumen = SeqIO.read(archivo, \"fasta\") en caso de que el archivo tenga extensión fasta.\n",
    "    print(resumen)\n",
    "    print(len(resumen.features))\n",
    "summarize_contents(archivo)"
   ]
  },
  {
   "cell_type": "code",
   "execution_count": null,
   "metadata": {},
   "outputs": [],
   "source": []
  }
 ],
 "metadata": {
  "kernelspec": {
   "display_name": "Python 3",
   "language": "python",
   "name": "python3"
  },
  "language_info": {
   "codemirror_mode": {
    "name": "ipython",
    "version": 3
   },
   "file_extension": ".py",
   "mimetype": "text/x-python",
   "name": "python",
   "nbconvert_exporter": "python",
   "pygments_lexer": "ipython3",
   "version": "3.8.3"
  }
 },
 "nbformat": 4,
 "nbformat_minor": 4
}
